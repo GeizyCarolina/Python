{
  "nbformat": 4,
  "nbformat_minor": 0,
  "metadata": {
    "colab": {
      "name": "Exercicio-AFDs.ipynb",
      "provenance": [],
      "collapsed_sections": [],
      "authorship_tag": "ABX9TyMfH00tZiKZCWWWIxtgBWYC",
      "include_colab_link": true
    },
    "kernelspec": {
      "name": "python3",
      "display_name": "Python 3"
    },
    "language_info": {
      "name": "python"
    }
  },
  "cells": [
    {
      "cell_type": "markdown",
      "metadata": {
        "id": "view-in-github",
        "colab_type": "text"
      },
      "source": [
        "<a href=\"https://colab.research.google.com/github/GeizyCarolina/Python/blob/main/Exercicio_AFDs.ipynb\" target=\"_parent\"><img src=\"https://colab.research.google.com/assets/colab-badge.svg\" alt=\"Open In Colab\"/></a>"
      ]
    },
    {
      "cell_type": "markdown",
      "source": [
        "# Exercicio Autômato finito determinístico"
      ],
      "metadata": {
        "id": "uawLGJcYd6f1"
      }
    },
    {
      "cell_type": "code",
      "source": [
        "from graphviz import Digraph\n",
        "import string"
      ],
      "metadata": {
        "id": "KUXaBgHneGLN"
      },
      "execution_count": 2,
      "outputs": []
    },
    {
      "cell_type": "code",
      "source": [
        "# definindo o AFD\n",
        "class AFD:\n",
        "  \"\"\"\n",
        "  Classe que representa um \n",
        "  autômato finito determinístico\n",
        "  \"\"\"\n",
        "\n",
        "  def __init__(self, alfabeto, estado_inicial, \n",
        "               estados_finais, matriz_transicao):\n",
        "    \"\"\"\n",
        "    Construtor\n",
        "    \"\"\"\n",
        "\n",
        "    # atributos da classe\n",
        "    self.__alfabeto = alfabeto\n",
        "    self.__estado_inicial = estado_inicial\n",
        "    self.__estados_finais = estados_finais\n",
        "    self.__matriz_transicao = matriz_transicao\n",
        "\n",
        "  def reconhecer(self, palavra):\n",
        "    print(f\"Estado inicial={estado_inicial}\")\n",
        "    print('------------------------------')\n",
        "\n",
        "    # o primeiro estado é o estado inicial\n",
        "    estado_atual = estado_inicial\n",
        "\n",
        "    for c in palavra:\n",
        "\n",
        "      # verificando se este símbolo faz\n",
        "      # parte do nosso alfabeto\n",
        "      if c not in self.__alfabeto:\n",
        "        raise Exception(f\"{c} não pertence ao alfabeto\")\n",
        "\n",
        "      # verificando se o estado atual tem saída\n",
        "      # para este evento \n",
        "      if c not in self.__matriz_transicao[estado_atual]:\n",
        "        raise Exception(f\"O estado {estado_atual} não tem saída para o evento {c}\")\n",
        "\n",
        "      # agora posso realizar a transição de estados\n",
        "      print(f'Estado atual={estado_atual}')\n",
        "      print(f'Evento={c}')\n",
        "      # realiza a transição de fato!\n",
        "      estado_atual = self.__matriz_transicao[estado_atual][c]\n",
        "      print(f'Próximo estado={estado_atual}')\n",
        "      print('------------------------------')\n",
        "\n",
        "\n",
        "    # Se o estado atual estiver no conjunto\n",
        "    # de estados iniciais:\n",
        "    #     então: reconhece\n",
        "    # caso contrário:\n",
        "    #     não reconhece\n",
        "    return estado_atual in self.__estados_finais\n",
        "\n",
        "  def desenhar(self):\n",
        "    g = Digraph('AFD')\n",
        "    g.node('start', shape='plaintext')\n",
        "\n",
        "    # responsável por desenhar os estados do AFD\n",
        "    for estado in self.__matriz_transicao.keys():\n",
        "      if estado in self.__estados_finais:\n",
        "        g.node(estado, shape='doublecircle') # um dos estados finais\n",
        "      else:\n",
        "        g.node(estado) # um estados comum\n",
        "\n",
        "    # responsável por desenhar as transições (os eventos)\n",
        "    for estado_origem in self.__matriz_transicao.keys():\n",
        "\n",
        "      # desenhando o primeiro evento\n",
        "      # evento que leva ao estado inicial\n",
        "      if estado_origem == self.__estado_inicial:\n",
        "        g.edge('start', estado_origem)  \n",
        "\n",
        "      eventos = self.__matriz_transicao[estado_origem].keys()\n",
        "      for ev in eventos:\n",
        "        # recupera o estado destino dado o estado origem e o evento\n",
        "        estado_destino = self.__matriz_transicao[estado_origem][ev]\n",
        "        # desenha as arestas com os eventos\n",
        "        g.edge(estado_origem, estado_destino, ev)\n",
        "    \n",
        "    return g"
      ],
      "metadata": {
        "id": "gwG-OM4vgvja"
      },
      "execution_count": 3,
      "outputs": []
    },
    {
      "cell_type": "code",
      "source": [
        "# instanciando o AFD\n",
        "alfabeto = [\"a\", \"b\", \"g\"]\n",
        "estado_inicial = \"X\"\n",
        "estados_finais = [\"X\"]\n",
        "matriz_transicao = {\n",
        "    \"X\":{\n",
        "        \"a\": \"X\",\n",
        "        \"g\": \"Z\"\n",
        "    },\n",
        "    \"Z\": {\n",
        "        \"a,g\": \"Y\",\n",
        "        \"b\": \"Z\"\n",
        "    },\n",
        "     \"Y\": {\n",
        "        \"a\": \"X\",\n",
        "        \"b\": \"Y\",\n",
        "    }\n",
        "}\n",
        "afd = AFD(alfabeto, estado_inicial, estados_finais, matriz_transicao)\n",
        "afd.desenhar()"
      ],
      "metadata": {
        "colab": {
          "base_uri": "https://localhost:8080/",
          "height": 420
        },
        "id": "iaKBYgLXmIY1",
        "outputId": "632c5ff3-4848-48bd-9af9-dddd9d38acfa"
      },
      "execution_count": 10,
      "outputs": [
        {
          "output_type": "execute_result",
          "data": {
            "text/plain": [
              "<graphviz.dot.Digraph at 0x7fc507ad3d10>"
            ],
            "image/svg+xml": "<?xml version=\"1.0\" encoding=\"UTF-8\" standalone=\"no\"?>\n<!DOCTYPE svg PUBLIC \"-//W3C//DTD SVG 1.1//EN\"\n \"http://www.w3.org/Graphics/SVG/1.1/DTD/svg11.dtd\">\n<!-- Generated by graphviz version 2.40.1 (20161225.0304)\n -->\n<!-- Title: AFD Pages: 1 -->\n<svg width=\"148pt\" height=\"299pt\"\n viewBox=\"0.00 0.00 148.00 299.00\" xmlns=\"http://www.w3.org/2000/svg\" xmlns:xlink=\"http://www.w3.org/1999/xlink\">\n<g id=\"graph0\" class=\"graph\" transform=\"scale(1 1) rotate(0) translate(4 295)\">\n<title>AFD</title>\n<polygon fill=\"#ffffff\" stroke=\"transparent\" points=\"-4,4 -4,-295 144,-295 144,4 -4,4\"/>\n<!-- start -->\n<g id=\"node1\" class=\"node\">\n<title>start</title>\n<text text-anchor=\"middle\" x=\"93\" y=\"-269.3\" font-family=\"Times,serif\" font-size=\"14.00\" fill=\"#000000\">start</text>\n</g>\n<!-- X -->\n<g id=\"node2\" class=\"node\">\n<title>X</title>\n<ellipse fill=\"none\" stroke=\"#000000\" cx=\"93\" cy=\"-196\" rx=\"18\" ry=\"18\"/>\n<ellipse fill=\"none\" stroke=\"#000000\" cx=\"93\" cy=\"-196\" rx=\"22\" ry=\"22\"/>\n<text text-anchor=\"middle\" x=\"93\" y=\"-192.3\" font-family=\"Times,serif\" font-size=\"14.00\" fill=\"#000000\">X</text>\n</g>\n<!-- start&#45;&gt;X -->\n<g id=\"edge1\" class=\"edge\">\n<title>start&#45;&gt;X</title>\n<path fill=\"none\" stroke=\"#000000\" d=\"M93,-254.7521C93,-246.8888 93,-237.4498 93,-228.4612\"/>\n<polygon fill=\"#000000\" stroke=\"#000000\" points=\"96.5001,-228.2376 93,-218.2377 89.5001,-228.2377 96.5001,-228.2376\"/>\n</g>\n<!-- X&#45;&gt;X -->\n<g id=\"edge2\" class=\"edge\">\n<title>X&#45;&gt;X</title>\n<path fill=\"none\" stroke=\"#000000\" d=\"M113.9908,-203.3169C124.0872,-204.2202 133,-201.7813 133,-196 133,-192.2964 129.3422,-189.9644 124.0587,-189.0042\"/>\n<polygon fill=\"#000000\" stroke=\"#000000\" points=\"124.0973,-185.5037 113.9908,-188.6831 123.8741,-192.5002 124.0973,-185.5037\"/>\n<text text-anchor=\"middle\" x=\"136.5\" y=\"-192.3\" font-family=\"Times,serif\" font-size=\"14.00\" fill=\"#000000\">a</text>\n</g>\n<!-- Z -->\n<g id=\"node3\" class=\"node\">\n<title>Z</title>\n<ellipse fill=\"none\" stroke=\"#000000\" cx=\"27\" cy=\"-105\" rx=\"27\" ry=\"18\"/>\n<text text-anchor=\"middle\" x=\"27\" y=\"-101.3\" font-family=\"Times,serif\" font-size=\"14.00\" fill=\"#000000\">Z</text>\n</g>\n<!-- X&#45;&gt;Z -->\n<g id=\"edge3\" class=\"edge\">\n<title>X&#45;&gt;Z</title>\n<path fill=\"none\" stroke=\"#000000\" d=\"M79.9605,-178.0213C69.9741,-164.2522 56.0812,-145.0969 45.0303,-129.86\"/>\n<polygon fill=\"#000000\" stroke=\"#000000\" points=\"47.6076,-127.4521 38.9031,-121.4119 41.941,-131.5619 47.6076,-127.4521\"/>\n<text text-anchor=\"middle\" x=\"68\" y=\"-144.8\" font-family=\"Times,serif\" font-size=\"14.00\" fill=\"#000000\">g</text>\n</g>\n<!-- Z&#45;&gt;Z -->\n<g id=\"edge5\" class=\"edge\">\n<title>Z&#45;&gt;Z</title>\n<path fill=\"none\" stroke=\"#000000\" d=\"M51.5325,-112.752C62.5078,-113.4902 72,-110.9063 72,-105 72,-101.0317 67.7151,-98.5632 61.5743,-97.5944\"/>\n<polygon fill=\"#000000\" stroke=\"#000000\" points=\"61.6472,-94.0949 51.5325,-97.248 61.4059,-101.0908 61.6472,-94.0949\"/>\n<text text-anchor=\"middle\" x=\"76\" y=\"-101.3\" font-family=\"Times,serif\" font-size=\"14.00\" fill=\"#000000\">b</text>\n</g>\n<!-- Y -->\n<g id=\"node4\" class=\"node\">\n<title>Y</title>\n<ellipse fill=\"none\" stroke=\"#000000\" cx=\"71\" cy=\"-18\" rx=\"27\" ry=\"18\"/>\n<text text-anchor=\"middle\" x=\"71\" y=\"-14.3\" font-family=\"Times,serif\" font-size=\"14.00\" fill=\"#000000\">Y</text>\n</g>\n<!-- Z&#45;&gt;Y -->\n<g id=\"edge4\" class=\"edge\">\n<title>Z&#45;&gt;Y</title>\n<path fill=\"none\" stroke=\"#000000\" d=\"M35.693,-87.8116C41.9604,-75.4191 50.5359,-58.4631 57.666,-44.3651\"/>\n<polygon fill=\"#000000\" stroke=\"#000000\" points=\"60.9352,-45.656 62.3251,-35.1527 54.6886,-42.4968 60.9352,-45.656\"/>\n<text text-anchor=\"middle\" x=\"61\" y=\"-57.8\" font-family=\"Times,serif\" font-size=\"14.00\" fill=\"#000000\">a,g</text>\n</g>\n<!-- Y&#45;&gt;X -->\n<g id=\"edge6\" class=\"edge\">\n<title>Y&#45;&gt;X</title>\n<path fill=\"none\" stroke=\"#000000\" d=\"M76.7453,-35.6504C80.9617,-49.4622 86.3897,-69.2397 89,-87 92.7626,-112.5997 93.6481,-141.9248 93.656,-163.7053\"/>\n<polygon fill=\"#000000\" stroke=\"#000000\" points=\"90.1559,-163.722 93.5981,-173.742 97.1558,-163.7624 90.1559,-163.722\"/>\n<text text-anchor=\"middle\" x=\"96.5\" y=\"-101.3\" font-family=\"Times,serif\" font-size=\"14.00\" fill=\"#000000\">a</text>\n</g>\n<!-- Y&#45;&gt;Y -->\n<g id=\"edge7\" class=\"edge\">\n<title>Y&#45;&gt;Y</title>\n<path fill=\"none\" stroke=\"#000000\" d=\"M95.5325,-25.752C106.5078,-26.4902 116,-23.9063 116,-18 116,-14.0317 111.7151,-11.5632 105.5743,-10.5944\"/>\n<polygon fill=\"#000000\" stroke=\"#000000\" points=\"105.6472,-7.0949 95.5325,-10.248 105.4059,-14.0908 105.6472,-7.0949\"/>\n<text text-anchor=\"middle\" x=\"120\" y=\"-14.3\" font-family=\"Times,serif\" font-size=\"14.00\" fill=\"#000000\">b</text>\n</g>\n</g>\n</svg>\n"
          },
          "metadata": {},
          "execution_count": 10
        }
      ]
    },
    {
      "cell_type": "code",
      "source": [
        "# instanciando o AFD\n",
        "alfabeto = [\"a\", \"b\"]\n",
        "estado_inicial = \"0\"\n",
        "estados_finais = [\"1\"]\n",
        "matriz_transicao = {\n",
        "    \"0\":{\n",
        "        \"b\": \"0\",\n",
        "        \"a\": \"1\"\n",
        "    },\n",
        "    \"1\": {\n",
        "        \"b\": \"0\",\n",
        "        \"a\": \"1\"\n",
        "    }\n",
        "}\n",
        "afd = AFD(alfabeto, estado_inicial, estados_finais, matriz_transicao)\n",
        "afd.desenhar()"
      ],
      "metadata": {
        "colab": {
          "base_uri": "https://localhost:8080/",
          "height": 304
        },
        "id": "uEHOVz6ho8VE",
        "outputId": "35751bda-965f-467d-8276-7483783ccda7"
      },
      "execution_count": 13,
      "outputs": [
        {
          "output_type": "execute_result",
          "data": {
            "text/plain": [
              "<graphviz.dot.Digraph at 0x7fc507ae78d0>"
            ],
            "image/svg+xml": "<?xml version=\"1.0\" encoding=\"UTF-8\" standalone=\"no\"?>\n<!DOCTYPE svg PUBLIC \"-//W3C//DTD SVG 1.1//EN\"\n \"http://www.w3.org/Graphics/SVG/1.1/DTD/svg11.dtd\">\n<!-- Generated by graphviz version 2.40.1 (20161225.0304)\n -->\n<!-- Title: AFD Pages: 1 -->\n<svg width=\"88pt\" height=\"212pt\"\n viewBox=\"0.00 0.00 88.00 212.00\" xmlns=\"http://www.w3.org/2000/svg\" xmlns:xlink=\"http://www.w3.org/1999/xlink\">\n<g id=\"graph0\" class=\"graph\" transform=\"scale(1 1) rotate(0) translate(4 208)\">\n<title>AFD</title>\n<polygon fill=\"#ffffff\" stroke=\"transparent\" points=\"-4,4 -4,-208 84,-208 84,4 -4,4\"/>\n<!-- start -->\n<g id=\"node1\" class=\"node\">\n<title>start</title>\n<text text-anchor=\"middle\" x=\"27\" y=\"-182.3\" font-family=\"Times,serif\" font-size=\"14.00\" fill=\"#000000\">start</text>\n</g>\n<!-- 0 -->\n<g id=\"node2\" class=\"node\">\n<title>0</title>\n<ellipse fill=\"none\" stroke=\"#000000\" cx=\"27\" cy=\"-113\" rx=\"27\" ry=\"18\"/>\n<text text-anchor=\"middle\" x=\"27\" y=\"-109.3\" font-family=\"Times,serif\" font-size=\"14.00\" fill=\"#000000\">0</text>\n</g>\n<!-- start&#45;&gt;0 -->\n<g id=\"edge1\" class=\"edge\">\n<title>start&#45;&gt;0</title>\n<path fill=\"none\" stroke=\"#000000\" d=\"M27,-167.9551C27,-159.8828 27,-150.1764 27,-141.1817\"/>\n<polygon fill=\"#000000\" stroke=\"#000000\" points=\"30.5001,-141.0903 27,-131.0904 23.5001,-141.0904 30.5001,-141.0903\"/>\n</g>\n<!-- 0&#45;&gt;0 -->\n<g id=\"edge2\" class=\"edge\">\n<title>0&#45;&gt;0</title>\n<path fill=\"none\" stroke=\"#000000\" d=\"M52.4435,-119.6907C63.0278,-120.1521 72,-117.9219 72,-113 72,-109.77 68.136,-107.6992 62.4881,-106.7876\"/>\n<polygon fill=\"#000000\" stroke=\"#000000\" points=\"62.5987,-103.289 52.4435,-106.3093 62.2656,-110.2811 62.5987,-103.289\"/>\n<text text-anchor=\"middle\" x=\"76\" y=\"-109.3\" font-family=\"Times,serif\" font-size=\"14.00\" fill=\"#000000\">b</text>\n</g>\n<!-- 1 -->\n<g id=\"node3\" class=\"node\">\n<title>1</title>\n<ellipse fill=\"none\" stroke=\"#000000\" cx=\"27\" cy=\"-22\" rx=\"18\" ry=\"18\"/>\n<ellipse fill=\"none\" stroke=\"#000000\" cx=\"27\" cy=\"-22\" rx=\"22\" ry=\"22\"/>\n<text text-anchor=\"middle\" x=\"27\" y=\"-18.3\" font-family=\"Times,serif\" font-size=\"14.00\" fill=\"#000000\">1</text>\n</g>\n<!-- 0&#45;&gt;1 -->\n<g id=\"edge3\" class=\"edge\">\n<title>0&#45;&gt;1</title>\n<path fill=\"none\" stroke=\"#000000\" d=\"M19.8573,-95.3405C17.8734,-89.5903 15.992,-83.1128 15,-77 13.6901,-68.9281 14.5184,-60.2573 16.2271,-52.2413\"/>\n<polygon fill=\"#000000\" stroke=\"#000000\" points=\"19.6221,-53.0926 18.7676,-42.5323 12.8501,-51.3205 19.6221,-53.0926\"/>\n<text text-anchor=\"middle\" x=\"18.5\" y=\"-65.8\" font-family=\"Times,serif\" font-size=\"14.00\" fill=\"#000000\">a</text>\n</g>\n<!-- 1&#45;&gt;0 -->\n<g id=\"edge4\" class=\"edge\">\n<title>1&#45;&gt;0</title>\n<path fill=\"none\" stroke=\"#000000\" d=\"M27,-44.2465C27,-56.3182 27,-71.3764 27,-84.3207\"/>\n<polygon fill=\"#000000\" stroke=\"#000000\" points=\"23.5001,-84.5848 27,-94.5848 30.5001,-84.5848 23.5001,-84.5848\"/>\n<text text-anchor=\"middle\" x=\"31\" y=\"-65.8\" font-family=\"Times,serif\" font-size=\"14.00\" fill=\"#000000\">b</text>\n</g>\n<!-- 1&#45;&gt;1 -->\n<g id=\"edge5\" class=\"edge\">\n<title>1&#45;&gt;1</title>\n<path fill=\"none\" stroke=\"#000000\" d=\"M47.5808,-30.3702C57.8447,-31.5284 67,-28.7383 67,-22 67,-17.6833 63.2427,-14.9869 57.8436,-13.9109\"/>\n<polygon fill=\"#000000\" stroke=\"#000000\" points=\"57.6729,-10.405 47.5808,-13.6298 57.4812,-17.4024 57.6729,-10.405\"/>\n<text text-anchor=\"middle\" x=\"70.5\" y=\"-18.3\" font-family=\"Times,serif\" font-size=\"14.00\" fill=\"#000000\">a</text>\n</g>\n</g>\n</svg>\n"
          },
          "metadata": {},
          "execution_count": 13
        }
      ]
    }
  ]
}