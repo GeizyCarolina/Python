{
  "nbformat": 4,
  "nbformat_minor": 0,
  "metadata": {
    "colab": {
      "name": "Atividade 01 - Trabalhando com Grafos.ipynb",
      "provenance": [],
      "authorship_tag": "ABX9TyNdMgEZNUc+UyPlahxPjMOo",
      "include_colab_link": true
    },
    "kernelspec": {
      "name": "python3",
      "display_name": "Python 3"
    },
    "language_info": {
      "name": "python"
    }
  },
  "cells": [
    {
      "cell_type": "markdown",
      "metadata": {
        "id": "view-in-github",
        "colab_type": "text"
      },
      "source": [
        "<a href=\"https://colab.research.google.com/github/GeizyCarolina/Python/blob/main/Atividade_01_Trabalhando_com_Grafos.ipynb\" target=\"_parent\"><img src=\"https://colab.research.google.com/assets/colab-badge.svg\" alt=\"Open In Colab\"/></a>"
      ]
    },
    {
      "cell_type": "code",
      "execution_count": 16,
      "metadata": {
        "id": "UMt85Yv444BI"
      },
      "outputs": [],
      "source": [
        ""
      ]
    },
    {
      "cell_type": "markdown",
      "source": [
        "# Use o código disponibilizado pelo professor, em Python, para representar pelo menos 4 propriedades de Grafos discutidas nas aulas de revisão."
      ],
      "metadata": {
        "id": "zG_O5qjE5A9E"
      }
    },
    {
      "cell_type": "code",
      "source": [
        "from collections import defaultdict\n",
        "from graphviz import Digraph\n",
        "from graphviz import Graph"
      ],
      "metadata": {
        "id": "Du8VQcdq5P0L"
      },
      "execution_count": 17,
      "outputs": []
    },
    {
      "cell_type": "code",
      "source": [
        "class Grafo(object):\n",
        "    \"\"\" Implementação básica de um grafo. \"\"\"\n",
        "\n",
        "    def __init__(self, arestas, direcionado=False):\n",
        "        \"\"\"Inicializa as estruturas base do grafo.\"\"\"\n",
        "        self.adj = defaultdict(set)\n",
        "        self.direcionado = direcionado\n",
        "        self.adiciona_arestas(arestas)\n",
        "\n",
        "    def get_vertices(self):\n",
        "        \"\"\" Retorna a lista de vértices do grafo. \"\"\"\n",
        "        return list(self.adj.keys())\n",
        "\n",
        "    def get_arestas(self):\n",
        "        \"\"\" Retorna a lista de arestas do grafo. \"\"\"\n",
        "        return [(k, v) for k in self.adj.keys() for v in self.adj[k]]\n",
        "\n",
        "\n",
        "    def adiciona_arestas(self, arestas):\n",
        "        \"\"\" Adiciona arestas ao grafo. \"\"\"\n",
        "        for u, v in arestas:\n",
        "            self.adiciona_arco(u, v)\n",
        "\n",
        "\n",
        "    def adiciona_arco(self, u, v):\n",
        "        \"\"\" Adiciona uma ligação (arco) entre os nodos 'u' e 'v'. \"\"\"\n",
        "        self.adj[u].add(v)\n",
        "        # Se o grafo é não-direcionado, precisamos adicionar arcos nos dois sentidos.\n",
        "        #if not self.direcionado:\n",
        "          #  self.adj[v].add(u)\n",
        "\n",
        "\n",
        "    def existe_aresta(self, u, v):\n",
        "        \"\"\" Existe uma aresta entre os vértices 'u' e 'v'? \"\"\"\n",
        "        return u in self.adj and v in self.adj[u]\n",
        "\n",
        "\n",
        "    def __len__(self):\n",
        "        return len(self.adj)\n",
        "\n",
        "\n",
        "    def __str__(self):\n",
        "        return '{}({})'.format(self.__class__.__name__, dict(self.adj))\n",
        "\n",
        "\n",
        "    def __getitem__(self, v):\n",
        "        return self.adj[v]\n",
        "\n",
        "\n",
        "    def desenha(self):\n",
        "\n",
        "        if(self.direcionado):\n",
        "           g = Digraph('G')\n",
        "        else:\n",
        "           g = Graph('G')\n",
        "\n",
        "        \n",
        "       #desenhando vertices\n",
        "        for estado in self.get_vertices():\n",
        "         g.node(estado) # um dos estados \n",
        "\n",
        "        #desenhando arestas\n",
        "        arestas = self.get_arestas()\n",
        "        for u, v in arestas:\n",
        "          g.edge(u, v)\n",
        "\n",
        "        return g"
      ],
      "metadata": {
        "id": "uzOKe2HD5zyl"
      },
      "execution_count": 18,
      "outputs": []
    },
    {
      "cell_type": "markdown",
      "source": [
        "### 1° GRAFO REGULAR\n",
        "Um grafo é regular quando todos os seus vértices tem o mesmo grau."
      ],
      "metadata": {
        "id": "gq9dMVNP9ETS"
      }
    },
    {
      "cell_type": "code",
      "source": [
        "# Cria a lista de arestas.\n",
        "arestas = [('A', 'C'),('A', 'B'),('A', 'F'),('B', 'E'),('B', 'D'),   ('C', 'F'),('C', 'D'),('D', 'E'),\n",
        "('E', 'F')]"
      ],
      "metadata": {
        "id": "yGpjzrZy5-gs"
      },
      "execution_count": 38,
      "outputs": []
    },
    {
      "cell_type": "code",
      "source": [
        "# Cria e imprime o grafo.\n",
        "grafo = Grafo(arestas, direcionado=False)\n",
        "print(grafo.adj)"
      ],
      "metadata": {
        "colab": {
          "base_uri": "https://localhost:8080/"
        },
        "id": "aj2EbgvY6Bws",
        "outputId": "1f48bc31-e9f6-4cf3-a547-1d4d831be9e8"
      },
      "execution_count": 39,
      "outputs": [
        {
          "output_type": "stream",
          "name": "stdout",
          "text": [
            "defaultdict(<class 'set'>, {'A': {'B', 'C', 'F'}, 'B': {'E', 'D'}, 'C': {'F', 'D'}, 'D': {'E'}, 'E': {'F'}})\n"
          ]
        }
      ]
    },
    {
      "cell_type": "code",
      "source": [
        "g=grafo.desenha();\n",
        "g\n"
      ],
      "metadata": {
        "colab": {
          "base_uri": "https://localhost:8080/",
          "height": 464
        },
        "id": "cmReZpiK6HCs",
        "outputId": "6050a80f-cd6e-4d08-ba30-75c01277812f"
      },
      "execution_count": 40,
      "outputs": [
        {
          "output_type": "execute_result",
          "data": {
            "text/plain": [
              "<graphviz.dot.Graph at 0x7f4557691750>"
            ],
            "image/svg+xml": "<?xml version=\"1.0\" encoding=\"UTF-8\" standalone=\"no\"?>\n<!DOCTYPE svg PUBLIC \"-//W3C//DTD SVG 1.1//EN\"\n \"http://www.w3.org/Graphics/SVG/1.1/DTD/svg11.dtd\">\n<!-- Generated by graphviz version 2.40.1 (20161225.0304)\n -->\n<!-- Title: G Pages: 1 -->\n<svg width=\"153pt\" height=\"332pt\"\n viewBox=\"0.00 0.00 153.38 332.00\" xmlns=\"http://www.w3.org/2000/svg\" xmlns:xlink=\"http://www.w3.org/1999/xlink\">\n<g id=\"graph0\" class=\"graph\" transform=\"scale(1 1) rotate(0) translate(4 328)\">\n<title>G</title>\n<polygon fill=\"#ffffff\" stroke=\"transparent\" points=\"-4,4 -4,-328 149.3843,-328 149.3843,4 -4,4\"/>\n<!-- A -->\n<g id=\"node1\" class=\"node\">\n<title>A</title>\n<ellipse fill=\"none\" stroke=\"#000000\" cx=\"99\" cy=\"-306\" rx=\"27\" ry=\"18\"/>\n<text text-anchor=\"middle\" x=\"99\" y=\"-302.3\" font-family=\"Times,serif\" font-size=\"14.00\" fill=\"#000000\">A</text>\n</g>\n<!-- B -->\n<g id=\"node2\" class=\"node\">\n<title>B</title>\n<ellipse fill=\"none\" stroke=\"#000000\" cx=\"27\" cy=\"-234\" rx=\"27\" ry=\"18\"/>\n<text text-anchor=\"middle\" x=\"27\" y=\"-230.3\" font-family=\"Times,serif\" font-size=\"14.00\" fill=\"#000000\">B</text>\n</g>\n<!-- A&#45;&#45;B -->\n<g id=\"edge1\" class=\"edge\">\n<title>A&#45;&#45;B</title>\n<path fill=\"none\" stroke=\"#000000\" d=\"M83.7307,-290.7307C71.512,-278.512 54.4602,-261.4602 42.2473,-249.2473\"/>\n</g>\n<!-- C -->\n<g id=\"node3\" class=\"node\">\n<title>C</title>\n<ellipse fill=\"none\" stroke=\"#000000\" cx=\"99\" cy=\"-234\" rx=\"27\" ry=\"18\"/>\n<text text-anchor=\"middle\" x=\"99\" y=\"-230.3\" font-family=\"Times,serif\" font-size=\"14.00\" fill=\"#000000\">C</text>\n</g>\n<!-- A&#45;&#45;C -->\n<g id=\"edge2\" class=\"edge\">\n<title>A&#45;&#45;C</title>\n<path fill=\"none\" stroke=\"#000000\" d=\"M99,-287.8314C99,-277 99,-263.2876 99,-252.4133\"/>\n</g>\n<!-- F -->\n<g id=\"node6\" class=\"node\">\n<title>F</title>\n<ellipse fill=\"none\" stroke=\"#000000\" cx=\"116\" cy=\"-18\" rx=\"27\" ry=\"18\"/>\n<text text-anchor=\"middle\" x=\"116\" y=\"-14.3\" font-family=\"Times,serif\" font-size=\"14.00\" fill=\"#000000\">F</text>\n</g>\n<!-- A&#45;&#45;F -->\n<g id=\"edge3\" class=\"edge\">\n<title>A&#45;&#45;F</title>\n<path fill=\"none\" stroke=\"#000000\" d=\"M113.1229,-290.2844C121.2535,-280.1468 130.6901,-266.2347 135,-252 158.5634,-174.1754 133.8623,-75.5387 121.8113,-35.7907\"/>\n</g>\n<!-- D -->\n<g id=\"node4\" class=\"node\">\n<title>D</title>\n<ellipse fill=\"none\" stroke=\"#000000\" cx=\"61\" cy=\"-162\" rx=\"27\" ry=\"18\"/>\n<text text-anchor=\"middle\" x=\"61\" y=\"-158.3\" font-family=\"Times,serif\" font-size=\"14.00\" fill=\"#000000\">D</text>\n</g>\n<!-- B&#45;&#45;D -->\n<g id=\"edge5\" class=\"edge\">\n<title>B&#45;&#45;D</title>\n<path fill=\"none\" stroke=\"#000000\" d=\"M35.2305,-216.5708C40.5761,-205.2506 47.5148,-190.5568 52.8453,-179.2687\"/>\n</g>\n<!-- E -->\n<g id=\"node5\" class=\"node\">\n<title>E</title>\n<ellipse fill=\"none\" stroke=\"#000000\" cx=\"61\" cy=\"-90\" rx=\"27\" ry=\"18\"/>\n<text text-anchor=\"middle\" x=\"61\" y=\"-86.3\" font-family=\"Times,serif\" font-size=\"14.00\" fill=\"#000000\">E</text>\n</g>\n<!-- B&#45;&#45;E -->\n<g id=\"edge4\" class=\"edge\">\n<title>B&#45;&#45;E</title>\n<path fill=\"none\" stroke=\"#000000\" d=\"M23.3657,-215.9661C20.3793,-197.471 17.7083,-168.0828 25,-144 29.3099,-129.7653 38.7465,-115.8532 46.8771,-105.7156\"/>\n</g>\n<!-- C&#45;&#45;D -->\n<g id=\"edge7\" class=\"edge\">\n<title>C&#45;&#45;D</title>\n<path fill=\"none\" stroke=\"#000000\" d=\"M89.9945,-216.937C84.0248,-205.626 76.2149,-190.8282 70.2048,-179.4407\"/>\n</g>\n<!-- C&#45;&#45;F -->\n<g id=\"edge6\" class=\"edge\">\n<title>C&#45;&#45;F</title>\n<path fill=\"none\" stroke=\"#000000\" d=\"M100.4202,-215.9555C103.6202,-175.2967 111.3644,-76.8988 114.5719,-36.1451\"/>\n</g>\n<!-- D&#45;&#45;E -->\n<g id=\"edge8\" class=\"edge\">\n<title>D&#45;&#45;E</title>\n<path fill=\"none\" stroke=\"#000000\" d=\"M61,-143.8314C61,-133 61,-119.2876 61,-108.4133\"/>\n</g>\n<!-- E&#45;&#45;F -->\n<g id=\"edge9\" class=\"edge\">\n<title>E&#45;&#45;F</title>\n<path fill=\"none\" stroke=\"#000000\" d=\"M73.4804,-73.6621C82.4814,-61.8788 94.5793,-46.0416 103.569,-34.2733\"/>\n</g>\n</g>\n</svg>\n"
          },
          "metadata": {},
          "execution_count": 40
        }
      ]
    },
    {
      "cell_type": "markdown",
      "source": [
        "###2º GRAFO COMPLETO\n",
        "Um grafo é completo quando há uma aresta entre cada par de seus vértices. Estes grafos são designados por Kn, onde n é a ordem do grafo."
      ],
      "metadata": {
        "id": "H4tuvtcX94Y7"
      }
    },
    {
      "cell_type": "code",
      "source": [
        "# Cria a lista de arestas.\n",
        "arestas = [('A', 'B'), ('B', 'C'), ('C', 'A')]"
      ],
      "metadata": {
        "id": "_nv9lLY09-lq"
      },
      "execution_count": 32,
      "outputs": []
    },
    {
      "cell_type": "code",
      "source": [
        "# Cria e imprime o grafo.\n",
        "grafo = Grafo(arestas, direcionado=False)\n",
        "print(grafo.adj)"
      ],
      "metadata": {
        "colab": {
          "base_uri": "https://localhost:8080/"
        },
        "id": "wl2l-rNN-C6q",
        "outputId": "0215b1ec-e66a-47d4-a1d1-c9a7e73ac70c"
      },
      "execution_count": 33,
      "outputs": [
        {
          "output_type": "stream",
          "name": "stdout",
          "text": [
            "defaultdict(<class 'set'>, {'A': {'B'}, 'B': {'C'}, 'C': {'A'}})\n"
          ]
        }
      ]
    },
    {
      "cell_type": "code",
      "source": [
        "g=grafo.desenha();\n",
        "g"
      ],
      "metadata": {
        "colab": {
          "base_uri": "https://localhost:8080/",
          "height": 272
        },
        "id": "Eq1v7z1m-F2C",
        "outputId": "ef3bd0e7-a888-44f6-84ba-0598745a47fc"
      },
      "execution_count": 34,
      "outputs": [
        {
          "output_type": "execute_result",
          "data": {
            "text/plain": [
              "<graphviz.dot.Graph at 0x7f45577042d0>"
            ],
            "image/svg+xml": "<?xml version=\"1.0\" encoding=\"UTF-8\" standalone=\"no\"?>\n<!DOCTYPE svg PUBLIC \"-//W3C//DTD SVG 1.1//EN\"\n \"http://www.w3.org/Graphics/SVG/1.1/DTD/svg11.dtd\">\n<!-- Generated by graphviz version 2.40.1 (20161225.0304)\n -->\n<!-- Title: G Pages: 1 -->\n<svg width=\"89pt\" height=\"188pt\"\n viewBox=\"0.00 0.00 89.00 188.00\" xmlns=\"http://www.w3.org/2000/svg\" xmlns:xlink=\"http://www.w3.org/1999/xlink\">\n<g id=\"graph0\" class=\"graph\" transform=\"scale(1 1) rotate(0) translate(4 184)\">\n<title>G</title>\n<polygon fill=\"#ffffff\" stroke=\"transparent\" points=\"-4,4 -4,-184 85,-184 85,4 -4,4\"/>\n<!-- A -->\n<g id=\"node1\" class=\"node\">\n<title>A</title>\n<ellipse fill=\"none\" stroke=\"#000000\" cx=\"54\" cy=\"-162\" rx=\"27\" ry=\"18\"/>\n<text text-anchor=\"middle\" x=\"54\" y=\"-158.3\" font-family=\"Times,serif\" font-size=\"14.00\" fill=\"#000000\">A</text>\n</g>\n<!-- B -->\n<g id=\"node2\" class=\"node\">\n<title>B</title>\n<ellipse fill=\"none\" stroke=\"#000000\" cx=\"27\" cy=\"-90\" rx=\"27\" ry=\"18\"/>\n<text text-anchor=\"middle\" x=\"27\" y=\"-86.3\" font-family=\"Times,serif\" font-size=\"14.00\" fill=\"#000000\">B</text>\n</g>\n<!-- A&#45;&#45;B -->\n<g id=\"edge1\" class=\"edge\">\n<title>A&#45;&#45;B</title>\n<path fill=\"none\" stroke=\"#000000\" d=\"M47.3258,-144.2022C43.1407,-133.0419 37.7679,-118.7143 33.5974,-107.593\"/>\n</g>\n<!-- C -->\n<g id=\"node3\" class=\"node\">\n<title>C</title>\n<ellipse fill=\"none\" stroke=\"#000000\" cx=\"54\" cy=\"-18\" rx=\"27\" ry=\"18\"/>\n<text text-anchor=\"middle\" x=\"54\" y=\"-14.3\" font-family=\"Times,serif\" font-size=\"14.00\" fill=\"#000000\">C</text>\n</g>\n<!-- B&#45;&#45;C -->\n<g id=\"edge2\" class=\"edge\">\n<title>B&#45;&#45;C</title>\n<path fill=\"none\" stroke=\"#000000\" d=\"M33.6742,-72.2022C37.8593,-61.0419 43.2321,-46.7143 47.4026,-35.593\"/>\n</g>\n<!-- C&#45;&#45;A -->\n<g id=\"edge3\" class=\"edge\">\n<title>C&#45;&#45;A</title>\n<path fill=\"none\" stroke=\"#000000\" d=\"M57.7474,-35.9069C59.7466,-46.3759 61.9966,-59.8759 63,-72 64.3197,-87.9455 64.3197,-92.0545 63,-108 61.9966,-120.1241 59.7466,-133.6241 57.7474,-144.0931\"/>\n</g>\n</g>\n</svg>\n"
          },
          "metadata": {},
          "execution_count": 34
        }
      ]
    },
    {
      "cell_type": "markdown",
      "source": [
        "###3° GRAFO ISOMORFO"
      ],
      "metadata": {
        "id": "5T8hVlJOB3R5"
      }
    },
    {
      "cell_type": "code",
      "source": [
        "# Cria a lista de arestas.\n",
        "arestas = [('A', 'D'), ('B', 'C')]"
      ],
      "metadata": {
        "id": "FJ86kQ4jB8VB"
      },
      "execution_count": 29,
      "outputs": []
    },
    {
      "cell_type": "code",
      "source": [
        "# Cria e imprime o grafo.\n",
        "grafo = Grafo(arestas, direcionado=False)\n",
        "print(grafo.adj)"
      ],
      "metadata": {
        "colab": {
          "base_uri": "https://localhost:8080/"
        },
        "id": "H5qAC727B_Ay",
        "outputId": "ff702df2-74e3-4d34-8924-4796add3b2c9"
      },
      "execution_count": 30,
      "outputs": [
        {
          "output_type": "stream",
          "name": "stdout",
          "text": [
            "defaultdict(<class 'set'>, {'A': {'D'}, 'B': {'C'}})\n"
          ]
        }
      ]
    },
    {
      "cell_type": "code",
      "source": [
        "g=grafo.desenha();\n",
        "g"
      ],
      "metadata": {
        "colab": {
          "base_uri": "https://localhost:8080/",
          "height": 176
        },
        "id": "V4FhphJ-CBPB",
        "outputId": "845a9cf2-0dfa-47f5-8d27-668aa95268a5"
      },
      "execution_count": 31,
      "outputs": [
        {
          "output_type": "execute_result",
          "data": {
            "text/plain": [
              "<graphviz.dot.Graph at 0x7f455769edd0>"
            ],
            "image/svg+xml": "<?xml version=\"1.0\" encoding=\"UTF-8\" standalone=\"no\"?>\n<!DOCTYPE svg PUBLIC \"-//W3C//DTD SVG 1.1//EN\"\n \"http://www.w3.org/Graphics/SVG/1.1/DTD/svg11.dtd\">\n<!-- Generated by graphviz version 2.40.1 (20161225.0304)\n -->\n<!-- Title: G Pages: 1 -->\n<svg width=\"134pt\" height=\"116pt\"\n viewBox=\"0.00 0.00 134.00 116.00\" xmlns=\"http://www.w3.org/2000/svg\" xmlns:xlink=\"http://www.w3.org/1999/xlink\">\n<g id=\"graph0\" class=\"graph\" transform=\"scale(1 1) rotate(0) translate(4 112)\">\n<title>G</title>\n<polygon fill=\"#ffffff\" stroke=\"transparent\" points=\"-4,4 -4,-112 130,-112 130,4 -4,4\"/>\n<!-- A -->\n<g id=\"node1\" class=\"node\">\n<title>A</title>\n<ellipse fill=\"none\" stroke=\"#000000\" cx=\"27\" cy=\"-90\" rx=\"27\" ry=\"18\"/>\n<text text-anchor=\"middle\" x=\"27\" y=\"-86.3\" font-family=\"Times,serif\" font-size=\"14.00\" fill=\"#000000\">A</text>\n</g>\n<!-- D -->\n<g id=\"node3\" class=\"node\">\n<title>D</title>\n<ellipse fill=\"none\" stroke=\"#000000\" cx=\"27\" cy=\"-18\" rx=\"27\" ry=\"18\"/>\n<text text-anchor=\"middle\" x=\"27\" y=\"-14.3\" font-family=\"Times,serif\" font-size=\"14.00\" fill=\"#000000\">D</text>\n</g>\n<!-- A&#45;&#45;D -->\n<g id=\"edge1\" class=\"edge\">\n<title>A&#45;&#45;D</title>\n<path fill=\"none\" stroke=\"#000000\" d=\"M27,-71.8314C27,-61 27,-47.2876 27,-36.4133\"/>\n</g>\n<!-- B -->\n<g id=\"node2\" class=\"node\">\n<title>B</title>\n<ellipse fill=\"none\" stroke=\"#000000\" cx=\"99\" cy=\"-90\" rx=\"27\" ry=\"18\"/>\n<text text-anchor=\"middle\" x=\"99\" y=\"-86.3\" font-family=\"Times,serif\" font-size=\"14.00\" fill=\"#000000\">B</text>\n</g>\n<!-- C -->\n<g id=\"node4\" class=\"node\">\n<title>C</title>\n<ellipse fill=\"none\" stroke=\"#000000\" cx=\"99\" cy=\"-18\" rx=\"27\" ry=\"18\"/>\n<text text-anchor=\"middle\" x=\"99\" y=\"-14.3\" font-family=\"Times,serif\" font-size=\"14.00\" fill=\"#000000\">C</text>\n</g>\n<!-- B&#45;&#45;C -->\n<g id=\"edge2\" class=\"edge\">\n<title>B&#45;&#45;C</title>\n<path fill=\"none\" stroke=\"#000000\" d=\"M99,-71.8314C99,-61 99,-47.2876 99,-36.4133\"/>\n</g>\n</g>\n</svg>\n"
          },
          "metadata": {},
          "execution_count": 31
        }
      ]
    },
    {
      "cell_type": "markdown",
      "source": [
        "###4° GRAFO CONEXO "
      ],
      "metadata": {
        "id": "esVS7FdjDYsD"
      }
    },
    {
      "cell_type": "code",
      "source": [
        "# Cria a lista de arestas.\n",
        "arestas = [('A', 'D'),('A', 'B'), ('D', 'C'), ('D', 'E'), ('B', 'C')]"
      ],
      "metadata": {
        "id": "R82NuDo4Eqdl"
      },
      "execution_count": 44,
      "outputs": []
    },
    {
      "cell_type": "code",
      "source": [
        "# Cria e imprime o grafo.\n",
        "grafo = Grafo(arestas, direcionado=False)\n",
        "print(grafo.adj)"
      ],
      "metadata": {
        "colab": {
          "base_uri": "https://localhost:8080/"
        },
        "id": "gRb19EN6EsKW",
        "outputId": "119bd694-d584-4f57-fd9f-0b52d404ad73"
      },
      "execution_count": 45,
      "outputs": [
        {
          "output_type": "stream",
          "name": "stdout",
          "text": [
            "defaultdict(<class 'set'>, {'A': {'B', 'D'}, 'D': {'E', 'C'}, 'B': {'C'}})\n"
          ]
        }
      ]
    },
    {
      "cell_type": "code",
      "source": [
        "g=grafo.desenha();\n",
        "g"
      ],
      "metadata": {
        "colab": {
          "base_uri": "https://localhost:8080/",
          "height": 272
        },
        "id": "_oUQmHNFEuQ1",
        "outputId": "6d143835-561f-4f58-d50d-ac08b52b851a"
      },
      "execution_count": 46,
      "outputs": [
        {
          "output_type": "execute_result",
          "data": {
            "text/plain": [
              "<graphviz.dot.Graph at 0x7f455768f410>"
            ],
            "image/svg+xml": "<?xml version=\"1.0\" encoding=\"UTF-8\" standalone=\"no\"?>\n<!DOCTYPE svg PUBLIC \"-//W3C//DTD SVG 1.1//EN\"\n \"http://www.w3.org/Graphics/SVG/1.1/DTD/svg11.dtd\">\n<!-- Generated by graphviz version 2.40.1 (20161225.0304)\n -->\n<!-- Title: G Pages: 1 -->\n<svg width=\"134pt\" height=\"188pt\"\n viewBox=\"0.00 0.00 134.00 188.00\" xmlns=\"http://www.w3.org/2000/svg\" xmlns:xlink=\"http://www.w3.org/1999/xlink\">\n<g id=\"graph0\" class=\"graph\" transform=\"scale(1 1) rotate(0) translate(4 184)\">\n<title>G</title>\n<polygon fill=\"#ffffff\" stroke=\"transparent\" points=\"-4,4 -4,-184 130,-184 130,4 -4,4\"/>\n<!-- A -->\n<g id=\"node1\" class=\"node\">\n<title>A</title>\n<ellipse fill=\"none\" stroke=\"#000000\" cx=\"63\" cy=\"-162\" rx=\"27\" ry=\"18\"/>\n<text text-anchor=\"middle\" x=\"63\" y=\"-158.3\" font-family=\"Times,serif\" font-size=\"14.00\" fill=\"#000000\">A</text>\n</g>\n<!-- D -->\n<g id=\"node2\" class=\"node\">\n<title>D</title>\n<ellipse fill=\"none\" stroke=\"#000000\" cx=\"27\" cy=\"-90\" rx=\"27\" ry=\"18\"/>\n<text text-anchor=\"middle\" x=\"27\" y=\"-86.3\" font-family=\"Times,serif\" font-size=\"14.00\" fill=\"#000000\">D</text>\n</g>\n<!-- A&#45;&#45;D -->\n<g id=\"edge2\" class=\"edge\">\n<title>A&#45;&#45;D</title>\n<path fill=\"none\" stroke=\"#000000\" d=\"M54.2854,-144.5708C48.6253,-133.2506 41.2784,-118.5568 35.6343,-107.2687\"/>\n</g>\n<!-- B -->\n<g id=\"node3\" class=\"node\">\n<title>B</title>\n<ellipse fill=\"none\" stroke=\"#000000\" cx=\"99\" cy=\"-90\" rx=\"27\" ry=\"18\"/>\n<text text-anchor=\"middle\" x=\"99\" y=\"-86.3\" font-family=\"Times,serif\" font-size=\"14.00\" fill=\"#000000\">B</text>\n</g>\n<!-- A&#45;&#45;B -->\n<g id=\"edge1\" class=\"edge\">\n<title>A&#45;&#45;B</title>\n<path fill=\"none\" stroke=\"#000000\" d=\"M71.7146,-144.5708C77.3747,-133.2506 84.7216,-118.5568 90.3657,-107.2687\"/>\n</g>\n<!-- E -->\n<g id=\"node4\" class=\"node\">\n<title>E</title>\n<ellipse fill=\"none\" stroke=\"#000000\" cx=\"27\" cy=\"-18\" rx=\"27\" ry=\"18\"/>\n<text text-anchor=\"middle\" x=\"27\" y=\"-14.3\" font-family=\"Times,serif\" font-size=\"14.00\" fill=\"#000000\">E</text>\n</g>\n<!-- D&#45;&#45;E -->\n<g id=\"edge3\" class=\"edge\">\n<title>D&#45;&#45;E</title>\n<path fill=\"none\" stroke=\"#000000\" d=\"M27,-71.8314C27,-61 27,-47.2876 27,-36.4133\"/>\n</g>\n<!-- C -->\n<g id=\"node5\" class=\"node\">\n<title>C</title>\n<ellipse fill=\"none\" stroke=\"#000000\" cx=\"99\" cy=\"-18\" rx=\"27\" ry=\"18\"/>\n<text text-anchor=\"middle\" x=\"99\" y=\"-14.3\" font-family=\"Times,serif\" font-size=\"14.00\" fill=\"#000000\">C</text>\n</g>\n<!-- D&#45;&#45;C -->\n<g id=\"edge4\" class=\"edge\">\n<title>D&#45;&#45;C</title>\n<path fill=\"none\" stroke=\"#000000\" d=\"M42.2693,-74.7307C54.488,-62.512 71.5398,-45.4602 83.7527,-33.2473\"/>\n</g>\n<!-- B&#45;&#45;C -->\n<g id=\"edge5\" class=\"edge\">\n<title>B&#45;&#45;C</title>\n<path fill=\"none\" stroke=\"#000000\" d=\"M99,-71.8314C99,-61 99,-47.2876 99,-36.4133\"/>\n</g>\n</g>\n</svg>\n"
          },
          "metadata": {},
          "execution_count": 46
        }
      ]
    }
  ]
}